{
  "cells": [
    {
      "cell_type": "markdown",
      "metadata": {},
      "source": [
        "# UNSUPERVISED LEARNING ON CREDIT SCORE DATA"
      ]
    },
    {
      "cell_type": "markdown",
      "metadata": {},
      "source": [
        "**OBJECTIVE: CLUSTER DATA TO IDENTIFY POTENTIAL PATTERNS RELATED TO CREDIT SCORES**"
      ]
    },
    {
      "cell_type": "markdown",
      "metadata": {},
      "source": [
        "Steps Included in this Notebook:\n",
        "* File Import & Data-Preprocessing\n",
        "* Finding Optimal K using Silhouette score \n",
        "* Running kMeans for unsupervised modeling/clustering\n",
        "* Deriving means of variables for each cluster to inspect differences for the clusters\n",
        "* Running PCA to visualize clustering \n",
        "* Insights on output "
      ]
    },
    {
      "cell_type": "markdown",
      "metadata": {},
      "source": [
        "Import Libraries"
      ]
    },
    {
      "cell_type": "code",
      "execution_count": 9,
      "metadata": {
        "id": "bIBpRoiZpaV3"
      },
      "outputs": [],
      "source": [
        "import numpy as np\n",
        "import pandas as pd\n",
        "import matplotlib.pyplot as plt\n",
        "import seaborn as sns\n",
        "\n",
        "from sklearn.cluster import KMeans\n",
        "from sklearn.preprocessing import StandardScaler, OneHotEncoder\n",
        "from sklearn.ensemble import RandomForestClassifier\n",
        "from sklearn.model_selection import train_test_split\n",
        "from sklearn.metrics import silhouette_score, calinski_harabasz_score\n",
        "from sklearn.decomposition import PCA\n",
        "from sklearn.compose import ColumnTransformer\n",
        "\n",
        "\n",
        "\n"
      ]
    },
    {
      "cell_type": "markdown",
      "metadata": {},
      "source": [
        "Create dataframe with the preprocessed dataset"
      ]
    },
    {
      "cell_type": "code",
      "execution_count": 2,
      "metadata": {},
      "outputs": [
        {
          "data": {
            "text/plain": [
              "(100000, 62)"
            ]
          },
          "execution_count": 2,
          "metadata": {},
          "output_type": "execute_result"
        }
      ],
      "source": [
        "df = pd.read_csv('C:\\\\Users\\\\rajih\\\\OneDrive\\\\Documents\\\\GitHub\\\\E-commerce_Promotion_Analysis\\\\Datasets\\\\feature_library.csv')\n",
        "df.shape"
      ]
    },
    {
      "cell_type": "markdown",
      "metadata": {},
      "source": [
        "Selecting relevant columns"
      ]
    },
    {
      "cell_type": "code",
      "execution_count": 3,
      "metadata": {},
      "outputs": [
        {
          "name": "stdout",
          "output_type": "stream",
          "text": [
            "Dropped columns: ['income_zscore', 'Delay_Zscore']\n"
          ]
        }
      ],
      "source": [
        "num_columns = df.select_dtypes(include=['int64', 'float', 'uint8']).columns\n",
        "selected_columns = list(num_columns) + ['Credit_Score']\n",
        "df2 = df[selected_columns]\n",
        "zscore_columns = [col for col in df2.columns if 'Zscore' in col or 'zscore' in col]\n",
        "\n",
        "#drop outlier test \n",
        "df2 = df2.drop(columns=zscore_columns, errors='ignore')\n",
        "print(f\"Dropped columns: {zscore_columns}\")"
      ]
    },
    {
      "cell_type": "markdown",
      "metadata": {},
      "source": [
        "Preprocess for Kmeans"
      ]
    },
    {
      "cell_type": "code",
      "execution_count": 4,
      "metadata": {},
      "outputs": [],
      "source": [
        "#need to encode credit_score\n",
        "df2 = pd.get_dummies(df2, columns=['Credit_Score'], prefix='Credit_Score')"
      ]
    },
    {
      "cell_type": "code",
      "execution_count": 5,
      "metadata": {},
      "outputs": [],
      "source": [
        "# scale\n",
        "X = df2.values\n",
        "scaler = StandardScaler()\n",
        "X_scaled = scaler.fit_transform(X)"
      ]
    },
    {
      "cell_type": "markdown",
      "metadata": {},
      "source": [
        "Find Optimal K"
      ]
    },
    {
      "cell_type": "code",
      "execution_count": 77,
      "metadata": {},
      "outputs": [
        {
          "data": {
            "image/png": "[encoded data removed]",
            "text/plain": [
              "<Figure size 432x288 with 1 Axes>"
            ]
          },
          "metadata": {
            "needs_background": "light"
          },
          "output_type": "display_data"
        }
      ],
      "source": [
        "k_range = range(2, 7)  \n",
        "sil_scores = []\n",
        "\n",
        "for k in k_range:\n",
        "    kmeans = KMeans(n_clusters=k, random_state=42)\n",
        "    labels = kmeans.fit_predict(X_scaled)\n",
        "    sil = silhouette_score(X_scaled, labels)\n",
        "    sil_scores.append(sil)\n",
        "\n",
        "# Plot Silhouette Scores\n",
        "plt.figure(figsize=(6,4))\n",
        "plt.plot(k_range, sil_scores, marker='o')\n",
        "plt.title(\"Silhouette Score vs. Number of Clusters\")\n",
        "plt.xlabel(\"k (clusters)\")\n",
        "plt.ylabel(\"Silhouette Score\")\n",
        "plt.show()"
      ]
    },
    {
      "cell_type": "markdown",
      "metadata": {},
      "source": [
        "Highest  silhouette score at k =2, indicating the best cluster separation."
      ]
    },
    {
      "cell_type": "code",
      "execution_count": 78,
      "metadata": {},
      "outputs": [
        {
          "name": "stdout",
          "output_type": "stream",
          "text": [
            "Best k by silhouette score = 2 (Score=0.1109)\n"
          ]
        }
      ],
      "source": [
        "# Identify best k ( highest silhouette)\n",
        "best_k = k_range[np.argmax(sil_scores)]\n",
        "print(f\"Best k by silhouette score = {best_k} (Score={max(sil_scores):.4f})\")"
      ]
    },
    {
      "cell_type": "markdown",
      "metadata": {},
      "source": [
        "Fitting K-Mean & adding cluster labels back"
      ]
    },
    {
      "cell_type": "code",
      "execution_count": 79,
      "metadata": {},
      "outputs": [],
      "source": [
        "#Fit K-Means with best_k\n",
        "kmeans_final = KMeans(n_clusters=best_k, random_state=42)\n",
        "labels_final = kmeans_final.fit_predict(X_scaled)\n",
        "\n",
        "# Add cluster labels to df2\n",
        "df2[\"Cluster\"] = labels_final\n",
        "\n"
      ]
    },
    {
      "cell_type": "markdown",
      "metadata": {},
      "source": [
        "Variable Means for both clusters to show how variables behave in both"
      ]
    },
    {
      "cell_type": "code",
      "execution_count": 80,
      "metadata": {},
      "outputs": [
        {
          "name": "stdout",
          "output_type": "stream",
          "text": [
            "\n",
            "Cluster Means:\n",
            "                Age  Annual_Income  Monthly_Inhand_Salary  Num_Bank_Accounts  \\\n",
            "Cluster                                                                       \n",
            "0        29.841512   34785.740617            2823.137295           7.212323   \n",
            "1        36.151965   64394.107825            4794.844102           4.118456   \n",
            "\n",
            "         Num_Credit_Card  Interest_Rate  Num_of_Loan  Delay_from_due_date  \\\n",
            "Cluster                                                                     \n",
            "0               6.851063      22.023458     5.621338            31.546271   \n",
            "1               4.661617       9.265887     2.036411            13.551130   \n",
            "\n",
            "         Num_of_Delayed_Payment  Changed_Credit_Limit  ...  \\\n",
            "Cluster                                                ...   \n",
            "0                     17.295289             13.293781  ...   \n",
            "1                     10.599787              7.543075  ...   \n",
            "\n",
            "         Credit_Mix_Standard  Payment_of_Min_Amount_Yes  \\\n",
            "Cluster                                                   \n",
            "0                   0.430822                   0.998779   \n",
            "1                   0.478325                   0.304119   \n",
            "\n",
            "         Payment_Behaviour_High_spent_Medium_value_payments  \\\n",
            "Cluster                                                       \n",
            "0                                                 0.166555    \n",
            "1                                                 0.207080    \n",
            "\n",
            "         Payment_Behaviour_High_spent_Small_value_payments  \\\n",
            "Cluster                                                      \n",
            "0                                                 0.121697   \n",
            "1                                                 0.122973   \n",
            "\n",
            "         Payment_Behaviour_Low_spent_Large_value_payments  \\\n",
            "Cluster                                                     \n",
            "0                                                0.110015   \n",
            "1                                                0.115176   \n",
            "\n",
            "         Payment_Behaviour_Low_spent_Medium_value_payments  \\\n",
            "Cluster                                                      \n",
            "0                                                 0.149296   \n",
            "1                                                 0.150711   \n",
            "\n",
            "         Payment_Behaviour_Low_spent_Small_value_payments  Credit_Score_Good  \\\n",
            "Cluster                                                                        \n",
            "0                                                0.348645           0.019078   \n",
            "1                                                0.223671           0.292508   \n",
            "\n",
            "         Credit_Score_Poor  Credit_Score_Standard  \n",
            "Cluster                                            \n",
            "0                 0.544332                0.43659  \n",
            "1                 0.107481                0.60001  \n",
            "\n",
            "[2 rows x 56 columns]\n"
          ]
        }
      ],
      "source": [
        "# Check cluster means\n",
        "cluster_means = df2.groupby(\"Cluster\").mean()\n",
        "print(\"\\nCluster Means:\\n\", cluster_means)"
      ]
    },
    {
      "cell_type": "markdown",
      "metadata": {},
      "source": [
        "Run PCA for plotting & seeing cluster segmentation"
      ]
    },
    {
      "cell_type": "code",
      "execution_count": 6,
      "metadata": {},
      "outputs": [],
      "source": [
        "# PCA for 2D Visualization\n",
        "pca = PCA(n_components=2)\n",
        "X_pca = pca.fit_transform(X_scaled)\n"
      ]
    },
    {
      "cell_type": "markdown",
      "metadata": {},
      "source": [
        "PCA Loading"
      ]
    },
    {
      "cell_type": "code",
      "execution_count": null,
      "metadata": {},
      "outputs": [
        {
          "name": "stdout",
          "output_type": "stream",
          "text": [
            "\n",
            "PCA Loadings (each row is a PC, each column is a feature):\n"
          ]
        },
        {
          "data": {
            "text/html": [
              "<div>\n",
              "<style scoped>\n",
              "    .dataframe tbody tr th:only-of-type {\n",
              "        vertical-align: middle;\n",
              "    }\n",
              "\n",
              "    .dataframe tbody tr th {\n",
              "        vertical-align: top;\n",
              "    }\n",
              "\n",
              "    .dataframe thead th {\n",
              "        text-align: right;\n",
              "    }\n",
              "</style>\n",
              "<table border=\"1\" class=\"dataframe\">\n",
              "  <thead>\n",
              "    <tr style=\"text-align: right;\">\n",
              "      <th></th>\n",
              "      <th>Age</th>\n",
              "      <th>Annual_Income</th>\n",
              "      <th>Monthly_Inhand_Salary</th>\n",
              "      <th>Num_Bank_Accounts</th>\n",
              "      <th>Num_Credit_Card</th>\n",
              "      <th>Interest_Rate</th>\n",
              "      <th>Num_of_Loan</th>\n",
              "      <th>Delay_from_due_date</th>\n",
              "      <th>Num_of_Delayed_Payment</th>\n",
              "      <th>Changed_Credit_Limit</th>\n",
              "      <th>...</th>\n",
              "      <th>Credit_Mix_Standard</th>\n",
              "      <th>Payment_of_Min_Amount_Yes</th>\n",
              "      <th>Payment_Behaviour_High_spent_Medium_value_payments</th>\n",
              "      <th>Payment_Behaviour_High_spent_Small_value_payments</th>\n",
              "      <th>Payment_Behaviour_Low_spent_Large_value_payments</th>\n",
              "      <th>Payment_Behaviour_Low_spent_Medium_value_payments</th>\n",
              "      <th>Payment_Behaviour_Low_spent_Small_value_payments</th>\n",
              "      <th>Credit_Score_Good</th>\n",
              "      <th>Credit_Score_Poor</th>\n",
              "      <th>Credit_Score_Standard</th>\n",
              "    </tr>\n",
              "  </thead>\n",
              "  <tbody>\n",
              "    <tr>\n",
              "      <th>PC1</th>\n",
              "      <td>-0.099589</td>\n",
              "      <td>-0.125262</td>\n",
              "      <td>-0.151779</td>\n",
              "      <td>0.228809</td>\n",
              "      <td>0.192277</td>\n",
              "      <td>0.267269</td>\n",
              "      <td>0.275040</td>\n",
              "      <td>0.239943</td>\n",
              "      <td>0.233973</td>\n",
              "      <td>0.176305</td>\n",
              "      <td>...</td>\n",
              "      <td>0.015500</td>\n",
              "      <td>0.268457</td>\n",
              "      <td>-0.025275</td>\n",
              "      <td>-0.001604</td>\n",
              "      <td>0.001384</td>\n",
              "      <td>-0.002285</td>\n",
              "      <td>0.063175</td>\n",
              "      <td>-0.160610</td>\n",
              "      <td>0.155797</td>\n",
              "      <td>-0.018477</td>\n",
              "    </tr>\n",
              "    <tr>\n",
              "      <th>PC2</th>\n",
              "      <td>-0.030245</td>\n",
              "      <td>0.365856</td>\n",
              "      <td>0.434171</td>\n",
              "      <td>0.002903</td>\n",
              "      <td>0.039228</td>\n",
              "      <td>0.035634</td>\n",
              "      <td>0.175375</td>\n",
              "      <td>0.053137</td>\n",
              "      <td>0.000018</td>\n",
              "      <td>0.023002</td>\n",
              "      <td>...</td>\n",
              "      <td>-0.151673</td>\n",
              "      <td>-0.012688</td>\n",
              "      <td>0.116827</td>\n",
              "      <td>0.014288</td>\n",
              "      <td>-0.022382</td>\n",
              "      <td>0.020371</td>\n",
              "      <td>-0.222247</td>\n",
              "      <td>0.051239</td>\n",
              "      <td>0.064407</td>\n",
              "      <td>-0.097871</td>\n",
              "    </tr>\n",
              "  </tbody>\n",
              "</table>\n",
              "<p>2 rows × 56 columns</p>\n",
              "</div>"
            ],
            "text/plain": [
              "          Age  Annual_Income  Monthly_Inhand_Salary  Num_Bank_Accounts  \\\n",
              "PC1 -0.099589      -0.125262              -0.151779           0.228809   \n",
              "PC2 -0.030245       0.365856               0.434171           0.002903   \n",
              "\n",
              "     Num_Credit_Card  Interest_Rate  Num_of_Loan  Delay_from_due_date  \\\n",
              "PC1         0.192277       0.267269     0.275040             0.239943   \n",
              "PC2         0.039228       0.035634     0.175375             0.053137   \n",
              "\n",
              "     Num_of_Delayed_Payment  Changed_Credit_Limit  ...  Credit_Mix_Standard  \\\n",
              "PC1                0.233973              0.176305  ...             0.015500   \n",
              "PC2                0.000018              0.023002  ...            -0.151673   \n",
              "\n",
              "     Payment_of_Min_Amount_Yes  \\\n",
              "PC1                   0.268457   \n",
              "PC2                  -0.012688   \n",
              "\n",
              "     Payment_Behaviour_High_spent_Medium_value_payments  \\\n",
              "PC1                                          -0.025275    \n",
              "PC2                                           0.116827    \n",
              "\n",
              "     Payment_Behaviour_High_spent_Small_value_payments  \\\n",
              "PC1                                          -0.001604   \n",
              "PC2                                           0.014288   \n",
              "\n",
              "     Payment_Behaviour_Low_spent_Large_value_payments  \\\n",
              "PC1                                          0.001384   \n",
              "PC2                                         -0.022382   \n",
              "\n",
              "     Payment_Behaviour_Low_spent_Medium_value_payments  \\\n",
              "PC1                                          -0.002285   \n",
              "PC2                                           0.020371   \n",
              "\n",
              "     Payment_Behaviour_Low_spent_Small_value_payments  Credit_Score_Good  \\\n",
              "PC1                                          0.063175          -0.160610   \n",
              "PC2                                         -0.222247           0.051239   \n",
              "\n",
              "     Credit_Score_Poor  Credit_Score_Standard  \n",
              "PC1           0.155797              -0.018477  \n",
              "PC2           0.064407              -0.097871  \n",
              "\n",
              "[2 rows x 56 columns]"
            ]
          },
          "metadata": {},
          "output_type": "display_data"
        },
        {
          "name": "stdout",
          "output_type": "stream",
          "text": [
            "\n",
            "Top 5 features contributing to PC1: ['Num_of_Loan', 'Payment_of_Min_Amount_Yes', 'Interest_Rate', 'Outstanding_Debt', 'Credit_Mix_Good']\n",
            "\n",
            "Top 5 features contributing to PC2: ['Total_EMI_per_month', 'Monthly_Inhand_Salary', 'Monthly_Inhand_Salary_log', 'Annual_Income', 'Monthly_Balance']\n"
          ]
        }
      ],
      "source": [
        "# Create a DataFrame of PCA loadings \n",
        "loadings_df = pd.DataFrame(\n",
        "    pca.components_,\n",
        "    columns=df2.columns,\n",
        "    index=[f\"PC{i+1}\" for i in range(pca.n_components_)]\n",
        ")\n",
        "\n",
        "print(\"\\nPCA Loadings:\")\n",
        "display(loadings_df)\n",
        "\n",
        "# Identify the top contributing features \n",
        "for i in range(pca.n_components_):\n",
        "    component_loadings = loadings_df.iloc[i]\n",
        "    sorted_loadings = component_loadings.abs().sort_values(ascending=False)\n",
        "    top_features = sorted_loadings.head(5).index\n",
        "    print(f\"\\nTop 5 features contributing to {loadings_df.index[i]}: {list(top_features)}\")"
      ]
    },
    {
      "cell_type": "code",
      "execution_count": null,
      "metadata": {},
      "outputs": [
        {
          "data": {
            "image/png": "[encoded data removed]",
            "text/plain": [
              "<Figure size 432x360 with 2 Axes>"
            ]
          },
          "metadata": {
            "needs_background": "light"
          },
          "output_type": "display_data"
        },
        {
          "name": "stdout",
          "output_type": "stream",
          "text": [
            "    Age  Annual_Income  Monthly_Inhand_Salary  Num_Bank_Accounts  \\\n",
            "0  23.0          19114            1824.843333                  3   \n",
            "1  23.0          19114            3093.745000                  3   \n",
            "2  23.0          19114            3093.745000                  3   \n",
            "3  23.0          19114            3093.745000                  3   \n",
            "4  23.0          19114            1824.843333                  3   \n",
            "5  23.0          19114            3093.745000                  3   \n",
            "6  23.0          19114            1824.843333                  3   \n",
            "7  23.0          19114            1824.843333                  3   \n",
            "8  28.0          34847            3037.986667                  2   \n",
            "9  28.0          34847            3037.986667                  2   \n",
            "\n",
            "   Num_Credit_Card  Interest_Rate  Num_of_Loan  Delay_from_due_date  \\\n",
            "0                4              3            4                    3   \n",
            "1                4              3            4                   -1   \n",
            "2                4              3            4                    3   \n",
            "3                4              3            4                    5   \n",
            "4                4              3            4                    6   \n",
            "5                4              3            4                    8   \n",
            "6                4              3            4                    3   \n",
            "7                4              3            4                    3   \n",
            "8                4              6            1                    3   \n",
            "9                4              6            1                    7   \n",
            "\n",
            "   Num_of_Delayed_Payment  Changed_Credit_Limit  ...  \\\n",
            "0                     7.0                  11.0  ...   \n",
            "1                    14.0                  11.0  ...   \n",
            "2                     7.0                   9.0  ...   \n",
            "3                     4.0                   6.0  ...   \n",
            "4                    14.0                  11.0  ...   \n",
            "5                     4.0                   9.0  ...   \n",
            "6                     8.0                  11.0  ...   \n",
            "7                     6.0                  11.0  ...   \n",
            "8                     4.0                   5.0  ...   \n",
            "9                     1.0                   7.0  ...   \n",
            "\n",
            "   Payment_of_Min_Amount_Yes  \\\n",
            "0                          0   \n",
            "1                          0   \n",
            "2                          0   \n",
            "3                          0   \n",
            "4                          0   \n",
            "5                          0   \n",
            "6                          0   \n",
            "7                          0   \n",
            "8                          0   \n",
            "9                          0   \n",
            "\n",
            "   Payment_Behaviour_High_spent_Medium_value_payments  \\\n",
            "0                                                  0    \n",
            "1                                                  0    \n",
            "2                                                  0    \n",
            "3                                                  0    \n",
            "4                                                  1    \n",
            "5                                                  1    \n",
            "6                                                  0    \n",
            "7                                                  1    \n",
            "8                                                  0    \n",
            "9                                                  0    \n",
            "\n",
            "   Payment_Behaviour_High_spent_Small_value_payments  \\\n",
            "0                                                  1   \n",
            "1                                                  0   \n",
            "2                                                  0   \n",
            "3                                                  0   \n",
            "4                                                  0   \n",
            "5                                                  0   \n",
            "6                                                  0   \n",
            "7                                                  0   \n",
            "8                                                  0   \n",
            "9                                                  0   \n",
            "\n",
            "   Payment_Behaviour_Low_spent_Large_value_payments  \\\n",
            "0                                                 0   \n",
            "1                                                 1   \n",
            "2                                                 0   \n",
            "3                                                 0   \n",
            "4                                                 0   \n",
            "5                                                 0   \n",
            "6                                                 0   \n",
            "7                                                 0   \n",
            "8                                                 0   \n",
            "9                                                 0   \n",
            "\n",
            "   Payment_Behaviour_Low_spent_Medium_value_payments  \\\n",
            "0                                                  0   \n",
            "1                                                  0   \n",
            "2                                                  1   \n",
            "3                                                  0   \n",
            "4                                                  0   \n",
            "5                                                  0   \n",
            "6                                                  0   \n",
            "7                                                  0   \n",
            "8                                                  0   \n",
            "9                                                  0   \n",
            "\n",
            "   Payment_Behaviour_Low_spent_Small_value_payments  Credit_Score_Good  \\\n",
            "0                                                 0                  1   \n",
            "1                                                 0                  1   \n",
            "2                                                 0                  1   \n",
            "3                                                 1                  1   \n",
            "4                                                 0                  1   \n",
            "5                                                 0                  1   \n",
            "6                                                 1                  1   \n",
            "7                                                 0                  0   \n",
            "8                                                 1                  0   \n",
            "9                                                 0                  1   \n",
            "\n",
            "   Credit_Score_Poor  Credit_Score_Standard  Cluster  \n",
            "0                  0                      0        1  \n",
            "1                  0                      0        1  \n",
            "2                  0                      0        1  \n",
            "3                  0                      0        1  \n",
            "4                  0                      0        1  \n",
            "5                  0                      0        1  \n",
            "6                  0                      0        1  \n",
            "7                  0                      1        1  \n",
            "8                  0                      1        1  \n",
            "9                  0                      0        1  \n",
            "\n",
            "[10 rows x 57 columns]\n"
          ]
        }
      ],
      "source": [
        "\n",
        "# Plot clusters in 2D PCA space\n",
        "plt.figure(figsize=(6,5))\n",
        "scatter = plt.scatter(X_pca[:,0], X_pca[:,1], c=labels_final, cmap=\"viridis\", alpha=0.7)\n",
        "plt.colorbar(scatter)\n",
        "plt.title(f\"K-Means Clusters (k={best_k}) in 2D PCA space\")\n",
        "plt.xlabel(\"PC1\")\n",
        "plt.ylabel(\"PC2\")\n",
        "\n",
        "# Plot cluster centers in PCA space (transform original centers)\n",
        "centers = kmeans_final.cluster_centers_\n",
        "centers_pca = pca.transform(centers)\n",
        "plt.scatter(centers_pca[:,0], centers_pca[:,1],\n",
        "            marker='x', s=200, linewidths=3, color='r', zorder=10)\n",
        "plt.show()\n",
        "\n",
        "# 8. Inspect final results\n",
        "print(df2.head(10))\n"
      ]
    },
    {
      "cell_type": "markdown",
      "metadata": {},
      "source": [
        "# Insights \n",
        "\n",
        "K-means clustering (K=2) effectively divides credit card users into two distinct segments based on financial health, visualized in a 2D space created by Principal Component Analysis (PCA).\n",
        "\n",
        "**Cluster 0 (Lower Income, Higher Risk):** \n",
        "\n",
        " This cluster is younger, has lower income, more bank accounts/credit cards, higher interest rates, more loans, higher delay from due dates and delayed payments, and changed credit limits. They almost always pay the minimum amount, have a mix of payment behaviors, and are more likely to have a \"Poor\" or \"Standard\" credit score.\n",
        "\n",
        "PCA Indication: Located on the left in PCA space (negative PC1), indicating lower values for features that positively load onto PC1. Given our PCA loadings (more loans, higher likelihood of minimum payments, etc. load positively), this implies lower financial responsibility.\n",
        "\n",
        "**Cluster 1 (Higher Income, Lower Risk):**\n",
        "\n",
        "This cluster is older, has higher income, fewer bank accounts/credit cards, lower interest rates, fewer loans, lower delay from due dates and delayed payments, and changed credit limits. They less frequently pay the minimum amount, exhibit a mix of payment behaviors, and are more likely to have a \"Standard\" or \"Good\" credit score.\n",
        "\n",
        "PCA Indication: Located on the right in PCA space (positive PC1), indicating higher values for features that positively load onto PC1. This signifies more responsible financial behavior."
      ]
    }
  ],
  "metadata": {
    "colab": {
      "provenance": []
    },
    "kernelspec": {
      "display_name": "Python (gurobi)",
      "language": "python",
      "name": "gurobi_env"
    },
    "language_info": {
      "codemirror_mode": {
        "name": "ipython",
        "version": 3
      },
      "file_extension": ".py",
      "mimetype": "text/x-python",
      "name": "python",
      "nbconvert_exporter": "python",
      "pygments_lexer": "ipython3",
      "version": "3.6.13"
    }
  },
  "nbformat": 4,
  "nbformat_minor": 0
}
